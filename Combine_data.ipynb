{
 "cells": [
  {
   "cell_type": "code",
   "execution_count": 1,
   "id": "a21cc75a",
   "metadata": {},
   "outputs": [],
   "source": [
    "import pandas as pd"
   ]
  },
  {
   "cell_type": "code",
   "execution_count": 3,
   "id": "d080957a",
   "metadata": {},
   "outputs": [],
   "source": [
    "AV20_data = pd.read_excel('Anand_Vihar_2020_21.xlsx')\n",
    "AV21_data = pd.read_excel('Anand_Vihar_2021_22.xlsx')\n",
    "AV22_data = pd.read_excel('Anand_Vihar_2022_23.xlsx')\n",
    "PB20_data = pd.read_excel('Punjabi_Bagh_2020_21.xlsx')\n",
    "PB21_data = pd.read_excel('Punjabi_Bagh_2021_22.xlsx')\n",
    "PB22_data = pd.read_excel('Punjabi_Bagh_2022_23.xlsx')\n",
    "MK20_data = pd.read_excel('Mundka_2020_21.xlsx')\n",
    "MK21_data = pd.read_excel('Mundka_2021_22.xlsx')\n",
    "MK22_data = pd.read_excel('Mundka_2022_23.xlsx')"
   ]
  },
  {
   "cell_type": "code",
   "execution_count": 4,
   "id": "8b00a505",
   "metadata": {},
   "outputs": [],
   "source": [
    "# Combine data for Station 1 for multiple years\n",
    "combined_AV_data = pd.concat([AV20_data, AV21_data,AV22_data])\n",
    "\n",
    "# Combine data for Station 2 for multiple years\n",
    "combined_PB_data = pd.concat([PB20_data,PB21_data,PB22_data])\n",
    "\n",
    "# Combine data for Station 3 for multiple years\n",
    "combined_MK_data = pd.concat([MK20_data,MK21_data,MK22_data])\n"
   ]
  },
  {
   "cell_type": "code",
   "execution_count": 5,
   "id": "735b2e7d",
   "metadata": {},
   "outputs": [
    {
     "name": "stderr",
     "output_type": "stream",
     "text": [
      "<ipython-input-5-2e755c32feed>:1: UserWarning: Pandas requires version '1.4.3' or newer of 'xlsxwriter' (version '1.3.8' currently installed).\n",
      "  combined_AV_data.to_excel('Combined_AV.xlsx', index=False)\n",
      "<ipython-input-5-2e755c32feed>:2: UserWarning: Pandas requires version '1.4.3' or newer of 'xlsxwriter' (version '1.3.8' currently installed).\n",
      "  combined_PB_data.to_excel('Combined_PB.xlsx', index=False)\n",
      "<ipython-input-5-2e755c32feed>:3: UserWarning: Pandas requires version '1.4.3' or newer of 'xlsxwriter' (version '1.3.8' currently installed).\n",
      "  combined_MK_data.to_excel('Combined_MK.xlsx', index=False)\n"
     ]
    }
   ],
   "source": [
    "combined_AV_data.to_excel('Combined_AV.xlsx', index=False)\n",
    "combined_PB_data.to_excel('Combined_PB.xlsx', index=False)\n",
    "combined_MK_data.to_excel('Combined_MK.xlsx', index=False)\n"
   ]
  },
  {
   "cell_type": "code",
   "execution_count": null,
   "id": "f1adb204",
   "metadata": {},
   "outputs": [],
   "source": []
  }
 ],
 "metadata": {
  "kernelspec": {
   "display_name": "Python 3",
   "language": "python",
   "name": "python3"
  },
  "language_info": {
   "codemirror_mode": {
    "name": "ipython",
    "version": 3
   },
   "file_extension": ".py",
   "mimetype": "text/x-python",
   "name": "python",
   "nbconvert_exporter": "python",
   "pygments_lexer": "ipython3",
   "version": "3.8.8"
  }
 },
 "nbformat": 4,
 "nbformat_minor": 5
}
